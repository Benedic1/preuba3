{
  "cells": [
    {
      "cell_type": "markdown",
      "metadata": {
        "id": "view-in-github",
        "colab_type": "text"
      },
      "source": [
        "<a href=\"https://colab.research.google.com/github/Benedic1/preuba3/blob/main/PREUBA.ipynb\" target=\"_parent\"><img src=\"https://colab.research.google.com/assets/colab-badge.svg\" alt=\"Open In Colab\"/></a>"
      ]
    },
    {
      "cell_type": "code",
      "execution_count": null,
      "metadata": {
        "colab": {
          "base_uri": "https://localhost:8080/"
        },
        "id": "mxLfRCudYsq3",
        "outputId": "8ab6327c-03b6-45a6-d52a-cd53dceee8cb"
      },
      "outputs": [
        {
          "output_type": "stream",
          "name": "stdout",
          "text": [
            "registro civil\n",
            "1---ingresar datos\n",
            "2----Buscar Documento\n",
            "3----imprimir Certficado\n",
            "4---salir de aplicacion\n",
            "select your service2\n",
            "ENTER YOUR ID\n",
            "262596729\n",
            "CERTIFICADO DE NACIMIENTO\n",
            " REPUBLICA DE CHILE \n",
            " \n",
            "\n",
            "CIRCUNSCRIPCION: \t \t \t SANTIAGO\n",
            "NOMBRE INSCRISTO: \t \t \t BENEDIC JEAN\n",
            "RUT: \t \t \t 26259672-9\n",
            "HORA NACIMIENTO: \t \t \t 13:00\n",
            "NOMBRE DEL PADRE: \t \t \t MC EVINCE CONSTAIN \n",
            "RUT DEL PADRE: \t \t \t 11452364-8\n",
            "NOMBRE DE LA MADRE: \t \t \t MARIA DORVIL \n",
            "RUT DE LA MADRE: \t \t \t 17852648-7\n",
            "this rut not exist\n"
          ]
        }
      ],
      "source": [
        "print(\"registro civil\")\n",
        "services=['1---ingresar datos','2----Buscar Documento','3----imprimir Certficado','4---salir de aplicacion']\n",
        "\n",
        "data_cert=[306869570,['\\n \\nCERTIFICADO DE NACIMIENTO\\n \\n REPUBLICA DE CHILE\\n','CIRCUNSCRIPCION: \\t \\t \\t SANTIAGO','NOMBRE INSCRISTO: \\t \\t \\t EDUARDO GABRIEL','RUT: \\t \\t \\t 32564587-9','HORA NACIMIENTO: \\t \\t \\t 16:00','NOMBRE DEL PADRE: EXERTO GABRIEL '\n",
        "'RUT DEL PADRE: 12452678-9','NOMBRE DE LA MADRE: PRIMARIA MARIA','RUT DE LA MADRE: 11526348-7'],262596729,['CERTIFICADO DE NACIMIENTO\\n REPUBLICA DE CHILE \\n \\n','CIRCUNSCRIPCION: \\t \\t \\t SANTIAGO','NOMBRE INSCRISTO: \\t \\t \\t BENEDIC JEAN','RUT: \\t \\t \\t 26259672-9','HORA NACIMIENTO: \\t \\t \\t 13:00','NOMBRE DEL PADRE: \\t \\t \\t MC EVINCE CONSTAIN ',\n",
        "'RUT DEL PADRE: \\t \\t \\t 11452364-8','NOMBRE DE LA MADRE: \\t \\t \\t MARIA DORVIL ','RUT DE LA MADRE: \\t \\t \\t 17852648-7']]\n",
        "\n",
        "registro=[]\n",
        "\n",
        "registros={}\n",
        "while True:\n",
        "    def id_look_for(certrt):\n",
        "        idtr=len(certrt) + data_cert.index(certrt)\n",
        "        cidtr=idtr**5\n",
        "        return cidtr\n",
        "    for datas in services:\n",
        "      print(datas)\n",
        "    tarea=int(input(\"select your service\"))\n",
        "    if tarea == 1:\n",
        "       name=input(\"ingrese el nombre\")\n",
        "       while True:\n",
        "           rut=input(\"ingrese su rut\")\n",
        "           rut1=input(\"ingrese digito verificado\")\n",
        "           s=rut+rut1\n",
        "           ect=False\n",
        "           for id in rut :\n",
        "              id=len(rut)\n",
        "              if id > 7 :\n",
        "                 ect=True\n",
        "           if not ect:\n",
        "             print(\"el rut debe tener solo digito y al menos 8 digitos\")\n",
        "           dct=False\n",
        "           for tr in rut1:\n",
        "              tr=len(rut1)\n",
        "              if tr == 1  :\n",
        "                dct=True\n",
        "           if not dct:\n",
        "            print(\"su rut tiene mas digito normal\")\n",
        "           dft=False\n",
        "           for sv in s:\n",
        "               sv=len(s)\n",
        "               if sv == 9 or sv == 8:\n",
        "                  dft=True\n",
        "\n",
        "           if not dft :\n",
        "              print(\" tiene mas o menos digito\")\n",
        "           else:\n",
        "             print(\"su rut es valido\")\n",
        "\n",
        "             ciudad=input(\"CIUDAD DE NACIEMIENTO\")\n",
        "             pais=input(\"PAIS NACIEMIENTO\")\n",
        "             while True:\n",
        "                  edad=int(input(\"TU EDAD\"))\n",
        "                  if edad < 0:\n",
        "                     print(\"la edad no puede ser o igual a zero\")\n",
        "                  else:\n",
        "                    registro.insert(len(registro),s)\n",
        "\n",
        "                    registro.append([' CERTIFICADO DE REGISTRO CIVIL','REPUBLICA DE CHILE',f'Nombre:{name}',f'EDAD:{edad}',f'RUT:{s}',f'CIUDAD:{ciudad}',f'PAIS NACIMIENTO:{pais}'])\n",
        "                    break\n",
        "\n",
        "           break\n",
        "\n",
        "\n",
        "\n",
        "\n"
      ]
    },
    {
      "cell_type": "code",
      "execution_count": null,
      "metadata": {
        "colab": {
          "base_uri": "https://localhost:8080/"
        },
        "id": "W6eL8hWOvo3A",
        "outputId": "0bfbff88-2e7f-464f-a774-45e73f8e8051"
      },
      "outputs": [
        {
          "output_type": "stream",
          "name": "stdout",
          "text": [
            "ingrese1 2 buscar 3 salir1\n",
            "ingrese un numero262596729\n",
            "nombre de la personaBENEDIC\n",
            "edad de la persona25\n",
            "[3, 5, 6, 8, 13, 262596729, ['Nombre:BENEDIC', 'EDAD:25', 'RUT:262596729']]\n",
            "ingrese1 2 buscar 3 salir1\n",
            "ingrese un numero162515608\n",
            "nombre de la personaDIEGO\n",
            "edad de la persona25\n",
            "[3, 5, 6, 8, 13, 262596729, ['Nombre:BENEDIC', 'EDAD:25', 'RUT:262596729'], 162515608, ['Nombre:DIEGO', 'EDAD:25', 'RUT:162515608']]\n",
            "ingrese1 2 buscar 3 salir2\n",
            "ingrese numer rut162515608\n",
            "Nombre:DIEGO\n",
            "EDAD:25\n",
            "RUT:162515608\n"
          ]
        }
      ],
      "source": [
        "i=0\n",
        "count=0\n",
        "data=[3,5,6,8,13]\n",
        "while True:\n",
        "    aces=int(input(\"ingrese1 2 buscar 3 salir\"))\n",
        "    if aces == 1:\n",
        "        num=int(input(\"ingrese un numero\"))\n",
        "        nombre=input(\"nombre de la persona\")\n",
        "        edad=input(\"edad de la persona\")\n",
        "        data.insert(len(data),num)\n",
        "        data.append([f'Nombre:{nombre}',f'EDAD:{edad}',f'RUT:{num}'])\n",
        "        print(data)\n",
        "    if aces == 2:\n",
        "      try:\n",
        "        num1=int(input(\"ingrese numer rut\"))\n",
        "        if num1 in data:\n",
        "           tr=data.index(num1)\n",
        "           trs=data[tr+1]\n",
        "           for c in trs:\n",
        "              print(c)\n",
        "      except:\n",
        "        print(\"thi is doesn't exist\")\n",
        "      break\n",
        "    if aces == 3 :\n",
        "       break"
      ]
    },
    {
      "cell_type": "code",
      "execution_count": null,
      "metadata": {
        "colab": {
          "base_uri": "https://localhost:8080/"
        },
        "id": "HIS7B3zqLXes",
        "outputId": "c01a1779-dd5c-45ed-bbd9-7d311ec90641"
      },
      "outputs": [
        {
          "name": "stdout",
          "output_type": "stream",
          "text": [
            "ingrese un numero262596729\n",
            "Nombre:Benedic Jean\n",
            "Apellidos:Jean\n"
          ]
        }
      ],
      "source": [
        "i=0\n",
        "try:\n",
        "  data=[262596729,['Nombre:Benedic Jean','Apellidos:Jean'],'5','6','8','13']\n",
        "  num=int(input(\"ingrese un numero\"))\n",
        "  data.index(num)\n",
        "  if data.index(num) in data:\n",
        "    print(data.index(num))\n",
        "  else:\n",
        "    dt=(data[data.index(num)+1])\n",
        "    for certificado in dt:\n",
        "        print(certificado)\n",
        "except:\n",
        "   print(\"this valor nat exist\")"
      ]
    }
  ],
  "metadata": {
    "colab": {
      "provenance": [],
      "authorship_tag": "ABX9TyOdHQWmWIIiIGc4C+uSNHMa",
      "include_colab_link": true
    },
    "kernelspec": {
      "display_name": "Python 3",
      "name": "python3"
    },
    "language_info": {
      "name": "python"
    }
  },
  "nbformat": 4,
  "nbformat_minor": 0
}